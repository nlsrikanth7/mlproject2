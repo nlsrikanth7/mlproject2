{
 "cells": [
  {
   "cell_type": "code",
   "execution_count": 1,
   "metadata": {},
   "outputs": [],
   "source": [
    "import os"
   ]
  },
  {
   "cell_type": "code",
   "execution_count": 2,
   "metadata": {},
   "outputs": [
    {
     "data": {
      "text/plain": [
       "'/Users/shrikanthnallapati/Projects/mlproject2/research'"
      ]
     },
     "execution_count": 2,
     "metadata": {},
     "output_type": "execute_result"
    }
   ],
   "source": [
    "%pwd"
   ]
  },
  {
   "cell_type": "code",
   "execution_count": 3,
   "metadata": {},
   "outputs": [],
   "source": [
    "os.chdir('../')"
   ]
  },
  {
   "cell_type": "code",
   "execution_count": 4,
   "metadata": {},
   "outputs": [
    {
     "data": {
      "text/plain": [
       "'/Users/shrikanthnallapati/Projects/mlproject2'"
      ]
     },
     "execution_count": 4,
     "metadata": {},
     "output_type": "execute_result"
    }
   ],
   "source": [
    "%pwd"
   ]
  },
  {
   "cell_type": "code",
   "execution_count": 5,
   "metadata": {},
   "outputs": [],
   "source": [
    "#update config.yaml for data transformation\n",
    "# update entity\n",
    "\n",
    "from dataclasses import dataclass\n",
    "from pathlib import Path\n",
    "\n",
    "@dataclass\n",
    "class DataTransformationConfig:\n",
    "    root_dir: Path\n",
    "    data_path: Path"
   ]
  },
  {
   "cell_type": "code",
   "execution_count": 11,
   "metadata": {},
   "outputs": [],
   "source": [
    "#Update configuration manager \n",
    "\n",
    "from mlProject2.constants import *\n",
    "from mlProject2.utils.common import read_yaml, create_directories\n",
    " \n",
    "\n",
    "class ConfigurationManager:\n",
    "    def __init__(\n",
    "        self,\n",
    "        config_filepath = CONFIG_FILE_PATH,\n",
    "        params_filepath = PARAMS_FILE_PATH,\n",
    "        schema_filepath = SCHEMA_FILE_PATH):\n",
    "\n",
    "        self.config = read_yaml(config_filepath)\n",
    "        self.params = read_yaml(params_filepath)\n",
    "        self.schema = read_yaml(schema_filepath)\n",
    "\n",
    "        create_directories([self.config.artifacts_root])\n",
    "\n",
    "    def get_data_transformation_config(self) -> DataTransformationConfig:\n",
    "        config = self.config.data_transformation # storing the data_ingestion config into into variable config\n",
    "\n",
    "        create_directories([config.root_dir]) # create root directory for the variable config \n",
    "\n",
    "        data_transformation_config = DataTransformationConfig(\n",
    "            root_dir= config.root_dir,\n",
    "            data_path= config.data_path,\n",
    "        )\n",
    "\n",
    "        return data_transformation_config\n"
   ]
  },
  {
   "cell_type": "code",
   "execution_count": 7,
   "metadata": {},
   "outputs": [],
   "source": [
    "# update components\n",
    "# we are only performing train_test split as data is already cleaned up\n",
    "# You can add different data transformation techniques like Standard Scaler, PCA, all kinds of EDA before passing this data to the model\n",
    "import os\n",
    "from src.mlProject2 import logger\n",
    "from sklearn.model_selection import train_test_split\n",
    "import pandas as pd"
   ]
  },
  {
   "cell_type": "code",
   "execution_count": 9,
   "metadata": {},
   "outputs": [],
   "source": [
    "class DataTransformation:\n",
    "    def __init__(self, config: DataTransformationConfig):\n",
    "        self.config = config\n",
    "\n",
    "    def train_test_spliting(self) -> bool:   # We are looking for a boolean type output like True or False\n",
    "        data = pd.read_csv(self.config.data_path)\n",
    "\n",
    "        # Split the data into training and test sets (0.75, 0.25) split. \n",
    "        train, test = train_test_split(data)\n",
    "\n",
    "        train.to_csv(os.path.join(self.config.root_dir, \"train.csv\"), index = False)\n",
    "        test.to_csv(os.path.join(self.config.root_dir, \"test.csv\"), index = False)\n",
    "\n",
    "        logger.info(\"Splited data into training and test sets\")\n",
    "        logger.info(train.shape)\n",
    "        logger.info(test.shape)\n",
    "\n",
    "        print(train.shape)\n",
    "        print(test.shape)"
   ]
  },
  {
   "cell_type": "code",
   "execution_count": 13,
   "metadata": {},
   "outputs": [
    {
     "name": "stdout",
     "output_type": "stream",
     "text": [
      "[2023-09-19 20:38:37,293: INFO: common: yaml file: config/config.yaml loaded successfully]\n",
      "[2023-09-19 20:38:37,295: INFO: common: yaml file: params.yaml loaded successfully]\n",
      "[2023-09-19 20:38:37,297: INFO: common: yaml file: schema.yaml loaded successfully]\n",
      "[2023-09-19 20:38:37,297: INFO: common: created directory at: artifacts]\n",
      "[2023-09-19 20:38:37,298: ERROR: 1934493724: \"'ConfigBox' object has no attribute 'data_transformation'\"]\n",
      "Traceback (most recent call last):\n",
      "  File \"box/box.py\", line 592, in box.box.Box.__getitem__\n",
      "KeyError: 'data_transformation'\n",
      "\n",
      "The above exception was the direct cause of the following exception:\n",
      "\n",
      "Traceback (most recent call last):\n",
      "  File \"box/box.py\", line 631, in box.box.Box.__getattr__\n",
      "  File \"box/box.py\", line 619, in box.box.Box.__getitem__\n",
      "box.exceptions.BoxKeyError: \"'data_transformation'\"\n",
      "\n",
      "During handling of the above exception, another exception occurred:\n",
      "\n",
      "Traceback (most recent call last):\n",
      "  File \"box/box.py\", line 633, in box.box.Box.__getattr__\n",
      "AttributeError: 'ConfigBox' object has no attribute 'data_transformation'\n",
      "\n",
      "The above exception was the direct cause of the following exception:\n",
      "\n",
      "Traceback (most recent call last):\n",
      "  File \"box/config_box.py\", line 29, in box.config_box.ConfigBox.__getattr__\n",
      "  File \"box/box.py\", line 647, in box.box.Box.__getattr__\n",
      "box.exceptions.BoxKeyError: \"'ConfigBox' object has no attribute 'data_transformation'\"\n",
      "\n",
      "During handling of the above exception, another exception occurred:\n",
      "\n",
      "Traceback (most recent call last):\n",
      "  File \"box/box.py\", line 592, in box.box.Box.__getitem__\n",
      "KeyError: 'data_transformation'\n",
      "\n",
      "The above exception was the direct cause of the following exception:\n",
      "\n",
      "Traceback (most recent call last):\n",
      "  File \"box/box.py\", line 631, in box.box.Box.__getattr__\n",
      "  File \"box/box.py\", line 619, in box.box.Box.__getitem__\n",
      "box.exceptions.BoxKeyError: \"'data_transformation'\"\n",
      "\n",
      "During handling of the above exception, another exception occurred:\n",
      "\n",
      "Traceback (most recent call last):\n",
      "  File \"box/box.py\", line 633, in box.box.Box.__getattr__\n",
      "AttributeError: 'ConfigBox' object has no attribute 'data_transformation'\n",
      "\n",
      "The above exception was the direct cause of the following exception:\n",
      "\n",
      "Traceback (most recent call last):\n",
      "  File \"/var/folders/zb/rfmnsj3x0wj3w394c2h_dwhw0000gn/T/ipykernel_81656/1934493724.py\", line 5, in <module>\n",
      "    data_transformation_config = config.get_data_transformation_config()\n",
      "                                 ^^^^^^^^^^^^^^^^^^^^^^^^^^^^^^^^^^^^^^^\n",
      "  File \"/var/folders/zb/rfmnsj3x0wj3w394c2h_dwhw0000gn/T/ipykernel_81656/879461433.py\", line 21, in get_data_transformation_config\n",
      "    config = self.config.data_transformation # storing the data_ingestion config into into variable config\n",
      "             ^^^^^^^^^^^^^^^^^^^^^^^^^^^^^^^\n",
      "  File \"box/config_box.py\", line 31, in box.config_box.ConfigBox.__getattr__\n",
      "  File \"box/box.py\", line 647, in box.box.Box.__getattr__\n",
      "box.exceptions.BoxKeyError: \"'ConfigBox' object has no attribute 'data_transformation'\"\n"
     ]
    },
    {
     "ename": "BoxKeyError",
     "evalue": "\"'ConfigBox' object has no attribute 'data_transformation'\"",
     "output_type": "error",
     "traceback": [
      "\u001b[0;31m---------------------------------------------------------------------------\u001b[0m",
      "\u001b[0;31mKeyError\u001b[0m                                  Traceback (most recent call last)",
      "File \u001b[0;32m~/Projects/mlproject2/mlwine/lib/python3.11/site-packages/box/box.py:592\u001b[0m, in \u001b[0;36mbox.box.Box.__getitem__\u001b[0;34m()\u001b[0m\n",
      "\u001b[0;31mKeyError\u001b[0m: 'data_transformation'",
      "\nThe above exception was the direct cause of the following exception:\n",
      "\u001b[0;31mBoxKeyError\u001b[0m                               Traceback (most recent call last)",
      "File \u001b[0;32m~/Projects/mlproject2/mlwine/lib/python3.11/site-packages/box/box.py:631\u001b[0m, in \u001b[0;36mbox.box.Box.__getattr__\u001b[0;34m()\u001b[0m\n",
      "File \u001b[0;32m~/Projects/mlproject2/mlwine/lib/python3.11/site-packages/box/box.py:619\u001b[0m, in \u001b[0;36mbox.box.Box.__getitem__\u001b[0;34m()\u001b[0m\n",
      "\u001b[0;31mBoxKeyError\u001b[0m: \"'data_transformation'\"",
      "\nDuring handling of the above exception, another exception occurred:\n",
      "\u001b[0;31mAttributeError\u001b[0m                            Traceback (most recent call last)",
      "File \u001b[0;32m~/Projects/mlproject2/mlwine/lib/python3.11/site-packages/box/box.py:633\u001b[0m, in \u001b[0;36mbox.box.Box.__getattr__\u001b[0;34m()\u001b[0m\n",
      "\u001b[0;31mAttributeError\u001b[0m: 'ConfigBox' object has no attribute 'data_transformation'",
      "\nThe above exception was the direct cause of the following exception:\n",
      "\u001b[0;31mBoxKeyError\u001b[0m                               Traceback (most recent call last)",
      "File \u001b[0;32m~/Projects/mlproject2/mlwine/lib/python3.11/site-packages/box/config_box.py:29\u001b[0m, in \u001b[0;36mbox.config_box.ConfigBox.__getattr__\u001b[0;34m()\u001b[0m\n",
      "File \u001b[0;32m~/Projects/mlproject2/mlwine/lib/python3.11/site-packages/box/box.py:647\u001b[0m, in \u001b[0;36mbox.box.Box.__getattr__\u001b[0;34m()\u001b[0m\n",
      "\u001b[0;31mBoxKeyError\u001b[0m: \"'ConfigBox' object has no attribute 'data_transformation'\"",
      "\nDuring handling of the above exception, another exception occurred:\n",
      "\u001b[0;31mKeyError\u001b[0m                                  Traceback (most recent call last)",
      "File \u001b[0;32m~/Projects/mlproject2/mlwine/lib/python3.11/site-packages/box/box.py:592\u001b[0m, in \u001b[0;36mbox.box.Box.__getitem__\u001b[0;34m()\u001b[0m\n",
      "\u001b[0;31mKeyError\u001b[0m: 'data_transformation'",
      "\nThe above exception was the direct cause of the following exception:\n",
      "\u001b[0;31mBoxKeyError\u001b[0m                               Traceback (most recent call last)",
      "File \u001b[0;32m~/Projects/mlproject2/mlwine/lib/python3.11/site-packages/box/box.py:631\u001b[0m, in \u001b[0;36mbox.box.Box.__getattr__\u001b[0;34m()\u001b[0m\n",
      "File \u001b[0;32m~/Projects/mlproject2/mlwine/lib/python3.11/site-packages/box/box.py:619\u001b[0m, in \u001b[0;36mbox.box.Box.__getitem__\u001b[0;34m()\u001b[0m\n",
      "\u001b[0;31mBoxKeyError\u001b[0m: \"'data_transformation'\"",
      "\nDuring handling of the above exception, another exception occurred:\n",
      "\u001b[0;31mAttributeError\u001b[0m                            Traceback (most recent call last)",
      "File \u001b[0;32m~/Projects/mlproject2/mlwine/lib/python3.11/site-packages/box/box.py:633\u001b[0m, in \u001b[0;36mbox.box.Box.__getattr__\u001b[0;34m()\u001b[0m\n",
      "\u001b[0;31mAttributeError\u001b[0m: 'ConfigBox' object has no attribute 'data_transformation'",
      "\nThe above exception was the direct cause of the following exception:\n",
      "\u001b[0;31mBoxKeyError\u001b[0m                               Traceback (most recent call last)",
      "\u001b[1;32m/Users/shrikanthnallapati/Projects/mlproject2/research/03_data_transformation.ipynb Cell 9\u001b[0m line \u001b[0;36m1\n\u001b[1;32m      <a href='vscode-notebook-cell:/Users/shrikanthnallapati/Projects/mlproject2/research/03_data_transformation.ipynb#X11sZmlsZQ%3D%3D?line=8'>9</a>\u001b[0m \u001b[39mexcept\u001b[39;00m \u001b[39mException\u001b[39;00m \u001b[39mas\u001b[39;00m e:\n\u001b[1;32m     <a href='vscode-notebook-cell:/Users/shrikanthnallapati/Projects/mlproject2/research/03_data_transformation.ipynb#X11sZmlsZQ%3D%3D?line=9'>10</a>\u001b[0m     logger\u001b[39m.\u001b[39mexception(e)\n\u001b[0;32m---> <a href='vscode-notebook-cell:/Users/shrikanthnallapati/Projects/mlproject2/research/03_data_transformation.ipynb#X11sZmlsZQ%3D%3D?line=10'>11</a>\u001b[0m     \u001b[39mraise\u001b[39;00m e\n",
      "\u001b[1;32m/Users/shrikanthnallapati/Projects/mlproject2/research/03_data_transformation.ipynb Cell 9\u001b[0m line \u001b[0;36m5\n\u001b[1;32m      <a href='vscode-notebook-cell:/Users/shrikanthnallapati/Projects/mlproject2/research/03_data_transformation.ipynb#X11sZmlsZQ%3D%3D?line=2'>3</a>\u001b[0m \u001b[39mtry\u001b[39;00m:\n\u001b[1;32m      <a href='vscode-notebook-cell:/Users/shrikanthnallapati/Projects/mlproject2/research/03_data_transformation.ipynb#X11sZmlsZQ%3D%3D?line=3'>4</a>\u001b[0m         config \u001b[39m=\u001b[39m ConfigurationManager()  \u001b[39m#initialize configuration manager\u001b[39;00m\n\u001b[0;32m----> <a href='vscode-notebook-cell:/Users/shrikanthnallapati/Projects/mlproject2/research/03_data_transformation.ipynb#X11sZmlsZQ%3D%3D?line=4'>5</a>\u001b[0m         data_transformation_config \u001b[39m=\u001b[39m config\u001b[39m.\u001b[39;49mget_data_transformation_config()\n\u001b[1;32m      <a href='vscode-notebook-cell:/Users/shrikanthnallapati/Projects/mlproject2/research/03_data_transformation.ipynb#X11sZmlsZQ%3D%3D?line=5'>6</a>\u001b[0m         data_transformation \u001b[39m=\u001b[39m DataTransformation(config\u001b[39m=\u001b[39mdata_transformation_config) \u001b[39m#initiate Datatransformation class\u001b[39;00m\n\u001b[1;32m      <a href='vscode-notebook-cell:/Users/shrikanthnallapati/Projects/mlproject2/research/03_data_transformation.ipynb#X11sZmlsZQ%3D%3D?line=6'>7</a>\u001b[0m         data_transformation\u001b[39m.\u001b[39mtrain_test_spliting()\n",
      "\u001b[1;32m/Users/shrikanthnallapati/Projects/mlproject2/research/03_data_transformation.ipynb Cell 9\u001b[0m line \u001b[0;36m2\n\u001b[1;32m     <a href='vscode-notebook-cell:/Users/shrikanthnallapati/Projects/mlproject2/research/03_data_transformation.ipynb#X11sZmlsZQ%3D%3D?line=19'>20</a>\u001b[0m \u001b[39mdef\u001b[39;00m \u001b[39mget_data_transformation_config\u001b[39m(\u001b[39mself\u001b[39m) \u001b[39m-\u001b[39m\u001b[39m>\u001b[39m DataTransformationConfig:\n\u001b[0;32m---> <a href='vscode-notebook-cell:/Users/shrikanthnallapati/Projects/mlproject2/research/03_data_transformation.ipynb#X11sZmlsZQ%3D%3D?line=20'>21</a>\u001b[0m     config \u001b[39m=\u001b[39m \u001b[39mself\u001b[39;49m\u001b[39m.\u001b[39;49mconfig\u001b[39m.\u001b[39;49mdata_transformation \u001b[39m# storing the data_ingestion config into into variable config\u001b[39;00m\n\u001b[1;32m     <a href='vscode-notebook-cell:/Users/shrikanthnallapati/Projects/mlproject2/research/03_data_transformation.ipynb#X11sZmlsZQ%3D%3D?line=22'>23</a>\u001b[0m     create_directories([config\u001b[39m.\u001b[39mroot_dir]) \u001b[39m# create root directory for the variable config \u001b[39;00m\n\u001b[1;32m     <a href='vscode-notebook-cell:/Users/shrikanthnallapati/Projects/mlproject2/research/03_data_transformation.ipynb#X11sZmlsZQ%3D%3D?line=24'>25</a>\u001b[0m     data_transformation_config \u001b[39m=\u001b[39m DataTransformationConfig(\n\u001b[1;32m     <a href='vscode-notebook-cell:/Users/shrikanthnallapati/Projects/mlproject2/research/03_data_transformation.ipynb#X11sZmlsZQ%3D%3D?line=25'>26</a>\u001b[0m         root_dir\u001b[39m=\u001b[39m config\u001b[39m.\u001b[39mroot_dir,\n\u001b[1;32m     <a href='vscode-notebook-cell:/Users/shrikanthnallapati/Projects/mlproject2/research/03_data_transformation.ipynb#X11sZmlsZQ%3D%3D?line=26'>27</a>\u001b[0m         data_path\u001b[39m=\u001b[39m config\u001b[39m.\u001b[39mdata_path,\n\u001b[1;32m     <a href='vscode-notebook-cell:/Users/shrikanthnallapati/Projects/mlproject2/research/03_data_transformation.ipynb#X11sZmlsZQ%3D%3D?line=27'>28</a>\u001b[0m     )\n",
      "File \u001b[0;32m~/Projects/mlproject2/mlwine/lib/python3.11/site-packages/box/config_box.py:31\u001b[0m, in \u001b[0;36mbox.config_box.ConfigBox.__getattr__\u001b[0;34m()\u001b[0m\n",
      "File \u001b[0;32m~/Projects/mlproject2/mlwine/lib/python3.11/site-packages/box/box.py:647\u001b[0m, in \u001b[0;36mbox.box.Box.__getattr__\u001b[0;34m()\u001b[0m\n",
      "\u001b[0;31mBoxKeyError\u001b[0m: \"'ConfigBox' object has no attribute 'data_transformation'\""
     ]
    }
   ],
   "source": [
    "# Create the Pipeline\n",
    "\n",
    "try:\n",
    "        config = ConfigurationManager()  #initialize configuration manager\n",
    "        data_transformation_config = config.get_data_transformation_config()\n",
    "        data_transformation = DataTransformation(config=data_transformation_config) #initiate Datatransformation class\n",
    "        data_transformation.train_test_spliting()\n",
    "        \n",
    "except Exception as e:\n",
    "    logger.exception(e)\n",
    "    raise e"
   ]
  }
 ],
 "metadata": {
  "kernelspec": {
   "display_name": "mlwine",
   "language": "python",
   "name": "python3"
  },
  "language_info": {
   "codemirror_mode": {
    "name": "ipython",
    "version": 3
   },
   "file_extension": ".py",
   "mimetype": "text/x-python",
   "name": "python",
   "nbconvert_exporter": "python",
   "pygments_lexer": "ipython3",
   "version": "3.11.1"
  },
  "orig_nbformat": 4
 },
 "nbformat": 4,
 "nbformat_minor": 2
}
